{
 "cells": [
  {
   "cell_type": "code",
   "execution_count": null,
   "metadata": {
    "collapsed": true,
    "pycharm": {
     "name": "#%%\n"
    }
   },
   "outputs": [],
   "source": [
    "import pandas as pd\n",
    "import numpy as np\n",
    "import matplotlib.pyplot as plt\n",
    "\n",
    "# Налаштування для коректного відображення українських символів\n",
    "plt.rcParams['font.family'] = 'DejaVu Sans'\n",
    "plt.rcParams['axes.unicode_minus'] = False"
   ]
  },
  {
   "cell_type": "markdown",
   "metadata": {
    "collapsed": false,
    "pycharm": {
     "name": "#%% md\n"
    }
   },
   "source": [
    "# Task 0\n",
    "Data extraction: get the data from 3 tables & combine it into single `.csv` file.\n",
    "After that read this file using pandas to create Dataframe.\n",
    "So it will be all joined data in 1 dataframe. Quick check - should be 74818 rows in it."
   ]
  },
  {
   "cell_type": "code",
   "execution_count": null,
   "metadata": {
    "collapsed": false,
    "pycharm": {
     "name": "#%%\n"
    }
   },
   "outputs": [],
   "source": [
    "import sqlite3\n",
    "import matplotlib.pyplot as plt\n",
    "\n",
    "# Підключення до бази даних\n",
    "conn = sqlite3.connect('../db.sqlite3')\n",
    "\n",
    "# SQL запит для об'єднання всіх трьох таблиць\n",
    "query = \"\"\"\n",
    "SELECT \n",
    "    oi.id as orderitem_id,\n",
    "    oi.quantity,\n",
    "    oi.order_id,\n",
    "    oi.product_id,\n",
    "    p.name as product_name,\n",
    "    p.price as product_price,\n",
    "    o.datetime as order_datetime\n",
    "FROM restaurant_orderitem oi\n",
    "JOIN restaurant_product p ON oi.product_id = p.id\n",
    "JOIN restaurant_order o ON oi.order_id = o.id\n",
    "\"\"\"\n",
    "\n",
    "# Виконання запиту та створення DataFrame\n",
    "df = pd.read_sql_query(query, conn)\n",
    "\n",
    "# Збереження в CSV файл\n",
    "df.to_csv('restaurant_data.csv', index=False)\n",
    "\n",
    "# Перевірка кількості рядків\n",
    "print(f\"Кількість рядків у DataFrame: {len(df)}\")\n",
    "print(f\"Розміри DataFrame: {df.shape}\")\n",
    "print(\"\\nПерші 5 рядків:\")\n",
    "print(df.head())\n",
    "\n",
    "# Закриття з'єднання\n",
    "conn.close()"
   ]
  },
  {
   "cell_type": "markdown",
   "metadata": {
    "collapsed": false,
    "pycharm": {
     "name": "#%% md\n"
    }
   },
   "source": [
    "# Task 1\n",
    "Get Top 10 most popular products in restaurant sold by Quantity.\n",
    "Count how many times each product was sold and create a pie chart with percentage of popularity (by quantity) for top 10 of them.\n",
    "\n",
    "Example:\n",
    "\n",
    "![pie chart](../demo/pie.png)"
   ]
  },
  {
   "cell_type": "code",
   "execution_count": null,
   "metadata": {
    "collapsed": false,
    "pycharm": {
     "name": "#%%\n"
    }
   },
   "outputs": [],
   "source": [
    "# Читаємо CSV файл (якщо ще не завантажений)\n",
    "if 'df' not in locals():\n",
    "    df = pd.read_csv('restaurant_data.csv')\n",
    "\n",
    "# Групуємо за назвою продукту та сумуємо кількість\n",
    "product_quantities = df.groupby('product_name')['quantity'].sum().sort_values(ascending=False)\n",
    "\n",
    "# Топ 10 найпопулярніших продуктів\n",
    "top_10_products = product_quantities.head(10)\n",
    "\n",
    "print(\"Топ 10 найпопулярніших продуктів за кількістю:\")\n",
    "print(top_10_products)\n",
    "\n",
    "# Створюємо діаграму пирог\n",
    "plt.figure(figsize=(12, 8))\n",
    "colors = plt.cm.Set3(range(len(top_10_products)))\n",
    "\n",
    "# Створюємо діаграму з відсотками\n",
    "wedges, texts, autotexts = plt.pie(top_10_products.values, \n",
    "                                  labels=top_10_products.index, \n",
    "                                  autopct='%1.1f%%',\n",
    "                                  colors=colors,\n",
    "                                  startangle=90)\n",
    "\n",
    "plt.title('Топ 10 найпопулярніших продуктів за кількістю', fontsize=16, fontweight='bold')\n",
    "\n",
    "# Покращуємо читабельність\n",
    "for autotext in autotexts:\n",
    "    autotext.set_color('white')\n",
    "    autotext.set_fontweight('bold')\n",
    "\n",
    "plt.axis('equal')\n",
    "plt.tight_layout()\n",
    "plt.show()\n",
    "\n",
    "# Виводимо статистику\n",
    "total_quantity = product_quantities.sum()\n",
    "print(f\"\\nЗагальна кількість проданих продуктів: {total_quantity}\")\n",
    "print(f\"Частка топ-10 продуктів: {top_10_products.sum() / total_quantity * 100:.1f}%\")"
   ]
  },
  {
   "cell_type": "markdown",
   "metadata": {
    "collapsed": false,
    "pycharm": {
     "name": "#%% md\n"
    }
   },
   "source": [
    "# Task 2\n",
    "Calculate `Item Price` (Product Price * Quantity) for each Order Item in dataframe.\n",
    "And Make the same Top 10 pie chart, but this time by `Item Price`. So this chart should describe not the most popular products by quantity, but which products (top 10) make the most money for restaurant. It should be also with percentage."
   ]
  },
  {
   "cell_type": "code",
   "execution_count": null,
   "metadata": {
    "collapsed": false,
    "pycharm": {
     "is_executing": true,
     "name": "#%%\n"
    }
   },
   "outputs": [],
   "source": [
    "# Обчислюємо ціну за одиницю товару (Item Price)\n",
    "df['item_price'] = df['product_price'] * df['quantity']\n",
    "\n",
    "# Групуємо за назвою продукту та сумуємо дохід\n",
    "product_revenue = df.groupby('product_name')['item_price'].sum().sort_values(ascending=False)\n",
    "\n",
    "# Топ 10 продуктів за доходом\n",
    "top_10_revenue = product_revenue.head(10)\n",
    "\n",
    "print(\"Топ 10 продуктів за доходом:\")\n",
    "for i, (product, revenue) in enumerate(top_10_revenue.items(), 1):\n",
    "    print(f\"{i}. {product}: ${revenue:.2f}\")\n",
    "\n",
    "# Створюємо діаграму пирог для доходу\n",
    "plt.figure(figsize=(12, 8))\n",
    "colors = plt.cm.Pastel1(range(len(top_10_revenue)))\n",
    "\n",
    "# Створюємо діаграму з відсотками\n",
    "wedges, texts, autotexts = plt.pie(top_10_revenue.values, \n",
    "                                  labels=top_10_revenue.index, \n",
    "                                  autopct='%1.1f%%',\n",
    "                                  colors=colors,\n",
    "                                  startangle=90)\n",
    "\n",
    "plt.title('Топ 10 продуктів за доходом', fontsize=16, fontweight='bold')\n",
    "\n",
    "# Покращуємо читабельність\n",
    "for autotext in autotexts:\n",
    "    autotext.set_color('black')\n",
    "    autotext.set_fontweight('bold')\n",
    "    autotext.set_fontsize(10)\n",
    "\n",
    "plt.axis('equal')\n",
    "plt.tight_layout()\n",
    "plt.show()\n",
    "\n",
    "# Виводимо статистику\n",
    "total_revenue = product_revenue.sum()\n",
    "print(f\"\\nЗагальний дохід ресторану: ${total_revenue:.2f}\")\n",
    "print(f\"Дохід від топ-10 продуктів: ${top_10_revenue.sum():.2f}\")\n",
    "print(f\"Частка топ-10 продуктів у доході: {top_10_revenue.sum() / total_revenue * 100:.1f}%\")"
   ]
  },
  {
   "cell_type": "markdown",
   "metadata": {
    "collapsed": false,
    "pycharm": {
     "name": "#%% md\n"
    }
   },
   "source": [
    "# Task 3\n",
    "Calculate `Order Hour` based on `Order Datetime`, which will tell about the specific our the order was created (from 0 to 23). Using `Order Hour` create a bar chart, which will tell the total restaurant income based on the hour order was created. So on x-axis - it will be values from 0 to 23 (hours), on y-axis - it will be the total sum of order prices, which were sold on that hour.\n",
    "\n",
    "Example:\n",
    "\n",
    "![bar chart](../demo/bar.png)"
   ]
  },
  {
   "cell_type": "code",
   "execution_count": null,
   "metadata": {
    "collapsed": false,
    "pycharm": {
     "name": "#%%\n"
    }
   },
   "outputs": [],
   "source": [
    "# Конвертуємо datetime в pandas datetime\n",
    "df['order_datetime'] = pd.to_datetime(df['order_datetime'])\n",
    "\n",
    "# Витягуємо годину з datetime\n",
    "df['order_hour'] = df['order_datetime'].dt.hour\n",
    "\n",
    "# Групуємо за годиною та сумуємо дохід\n",
    "hourly_revenue = df.groupby('order_hour')['item_price'].sum()\n",
    "\n",
    "# Створюємо стовпчасту діаграму\n",
    "plt.figure(figsize=(14, 8))\n",
    "bars = plt.bar(hourly_revenue.index, hourly_revenue.values, \n",
    "               color='skyblue', edgecolor='navy', alpha=0.7)\n",
    "\n",
    "plt.title('Дохід ресторану за годинами дня', fontsize=16, fontweight='bold')\n",
    "plt.xlabel('Година дня', fontsize=12)\n",
    "plt.ylabel('Дохід ($)', fontsize=12)\n",
    "plt.xticks(range(24))\n",
    "plt.grid(axis='y', alpha=0.3)\n",
    "\n",
    "# Додаємо значення на стовпчики\n",
    "for bar in bars:\n",
    "    height = bar.get_height()\n",
    "    plt.text(bar.get_x() + bar.get_width()/2., height + 50,\n",
    "             f'${height:.0f}', ha='center', va='bottom', fontsize=9)\n",
    "\n",
    "plt.tight_layout()\n",
    "plt.show()\n",
    "\n",
    "# Виводимо статистику\n",
    "print(\"Дохід за кожну годину дня:\")\n",
    "for hour, revenue in hourly_revenue.items():\n",
    "    print(f\"Година {hour:2d}: ${revenue:,.2f}\")\n",
    "\n",
    "print(f\"\\nНайприбутковіша година: {hourly_revenue.idxmax()} (${hourly_revenue.max():.2f})\")\n",
    "print(f\"Найменш прибуткова година: {hourly_revenue.idxmin()} (${hourly_revenue.min():.2f})\")\n",
    "print(f\"Середній дохід за годину: ${hourly_revenue.mean():.2f}\")"
   ]
  },
  {
   "cell_type": "markdown",
   "metadata": {
    "collapsed": false,
    "pycharm": {
     "name": "#%% md\n"
    }
   },
   "source": [
    "# Task 4\n",
    "Make similar bar chart, but right now with `Order Day Of The Week` (from Monday to Sunday), and also analyze total restaurant income by each day of the week."
   ]
  },
  {
   "cell_type": "code",
   "execution_count": null,
   "metadata": {
    "collapsed": false,
    "pycharm": {
     "name": "#%%\n"
    }
   },
   "outputs": [],
   "source": [
    "# Витягуємо день тижня з datetime\n",
    "df['order_day_of_week'] = df['order_datetime'].dt.day_name()\n",
    "\n",
    "# Визначаємо порядок днів тижня\n",
    "day_order = ['Monday', 'Tuesday', 'Wednesday', 'Thursday', 'Friday', 'Saturday', 'Sunday']\n",
    "day_names_ua = ['Понеділок', 'Вівторок', 'Середа', 'Четвер', 'П\\'ятниця', 'Субота', 'Неділя']\n",
    "\n",
    "# Групуємо за днем тижня та сумуємо дохід\n",
    "daily_revenue = df.groupby('order_day_of_week')['item_price'].sum()\n",
    "\n",
    "# Сортуємо за порядком днів тижня\n",
    "daily_revenue = daily_revenue.reindex(day_order)\n",
    "\n",
    "# Створюємо стовпчасту діаграму\n",
    "plt.figure(figsize=(12, 8))\n",
    "colors = ['#FF9999', '#66B2FF', '#99FF99', '#FFCC99', '#FF99CC', '#99CCFF', '#FFB366']\n",
    "bars = plt.bar(day_names_ua, daily_revenue.values, \n",
    "               color=colors, edgecolor='black', alpha=0.8)\n",
    "\n",
    "plt.title('Дохід ресторану за днями тижня', fontsize=16, fontweight='bold')\n",
    "plt.xlabel('День тижня', fontsize=12)\n",
    "plt.ylabel('Дохід ($)', fontsize=12)\n",
    "plt.xticks(rotation=45)\n",
    "plt.grid(axis='y', alpha=0.3)\n",
    "\n",
    "# Додаємо значення на стовпчики\n",
    "for i, bar in enumerate(bars):\n",
    "    height = bar.get_height()\n",
    "    plt.text(bar.get_x() + bar.get_width()/2., height + 100,\n",
    "             f'${height:,.0f}', ha='center', va='bottom', fontsize=10, fontweight='bold')\n",
    "\n",
    "plt.tight_layout()\n",
    "plt.show()\n",
    "\n",
    "# Виводимо статистику\n",
    "print(\"Дохід за кожен день тижня:\")\n",
    "for day_en, day_ua in zip(day_order, day_names_ua):\n",
    "    if day_en in daily_revenue.index:\n",
    "        revenue = daily_revenue[day_en]\n",
    "        print(f\"{day_ua}: ${revenue:,.2f}\")\n",
    "\n",
    "# Знаходимо найкращий і найгірший дні\n",
    "best_day_en = daily_revenue.idxmax()\n",
    "worst_day_en = daily_revenue.idxmin()\n",
    "best_day_ua = day_names_ua[day_order.index(best_day_en)]\n",
    "worst_day_ua = day_names_ua[day_order.index(worst_day_en)]\n",
    "\n",
    "print(f\"\\nНайприбутковіший день: {best_day_ua} (${daily_revenue.max():,.2f})\")\n",
    "print(f\"Найменш прибутковий день: {worst_day_ua} (${daily_revenue.min():,.2f})\")\n",
    "print(f\"Середній дохід за день: ${daily_revenue.mean():,.2f}\")\n",
    "\n",
    "# Аналіз weekday vs weekend\n",
    "weekday_revenue = daily_revenue[day_order[:5]].sum()  # Пн-Пт\n",
    "weekend_revenue = daily_revenue[day_order[5:]].sum()  # Сб-Нд\n",
    "\n",
    "print(f\"\\nДохід у будні дні (Пн-Пт): ${weekday_revenue:,.2f}\")\n",
    "print(f\"Дохід у вихідні (Сб-Нд): ${weekend_revenue:,.2f}\")\n",
    "print(f\"Співвідношення будні/вихідні: {weekday_revenue/weekend_revenue:.2f}\")"
   ]
  }
 ],
 "metadata": {
  "kernelspec": {
   "display_name": "Python 3",
   "language": "python",
   "name": "python3"
  },
  "language_info": {
   "codemirror_mode": {
    "name": "ipython",
    "version": 2
   },
   "file_extension": ".py",
   "mimetype": "text/x-python",
   "name": "python",
   "nbconvert_exporter": "python",
   "pygments_lexer": "ipython2",
   "version": "2.7.6"
  }
 },
 "nbformat": 4,
 "nbformat_minor": 0
}
